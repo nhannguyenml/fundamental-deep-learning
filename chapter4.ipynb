{
 "cells": [
  {
   "cell_type": "code",
   "execution_count": 20,
   "metadata": {},
   "outputs": [
    {
     "name": "stdout",
     "output_type": "stream",
     "text": [
      "tensor(0.3025)\n"
     ]
    }
   ],
   "source": [
    "#PAGE 50\n",
    "#Measure the error\n",
    "import torch\n",
    "knob_weight = torch.tensor(0.5)\n",
    "input = torch.tensor(0.5)\n",
    "goal_pred = torch.tensor(0.8)\n",
    "\n",
    "pred = input * knob_weight\n",
    "error = (pred - goal_pred) ** 2\n",
    "print(error)"
   ]
  },
  {
   "cell_type": "code",
   "execution_count": 26,
   "metadata": {},
   "outputs": [
    {
     "name": "stdout",
     "output_type": "stream",
     "text": [
      "tensor(0.0225)\n",
      "tensor(0.0042)\n",
      "tensor(0.0552)\n",
      "error go up and new weight = 0.10999999940395355\n"
     ]
    }
   ],
   "source": [
    "#PAGE 52-53\n",
    "#HOT AND COLD METHOD - SIMPLEST FORM OF NEURAL LEARNING\n",
    "import torch\n",
    "\n",
    "#step1: empty network\n",
    "weight = torch.tensor(0.1)\n",
    "lr = torch.tensor(0.01)\n",
    "def neural_network(input, weight):\n",
    "    prediction = input * weight\n",
    "    return prediction\n",
    "\n",
    "#step2 predict: prediction and evaluating error\n",
    "number_of_toes = torch.tensor([8.5])\n",
    "win_or_lose_binary = torch.tensor([1]) #won !!!\n",
    "input = number_of_toes[0]\n",
    "true = win_or_lose_binary[0]\n",
    "pred = neural_network(input, weight)\n",
    "error = (pred - true)**2\n",
    "print(error)\n",
    "\n",
    "#step3 compare: prediction witht higher weight and evaluating error\n",
    "lr = 0.01\n",
    "p_up = neural_network(input, weight + lr)\n",
    "e_up = (p_up - true) ** 2\n",
    "print(e_up)\n",
    "\n",
    "\n",
    "#step4 compare: prediction with lower weight and evaluating error\n",
    "lr = 0.01\n",
    "p_down = neural_network(input, weight - lr)\n",
    "e_down = (p_down - true) ** 2\n",
    "print(e_down)\n",
    "\n",
    "#step 5 compare + learn: comparing errors and setting the new weight\n",
    "if(error > e_down or error > e_up):\n",
    "    if(e_down  < e_up):\n",
    "        weight -= lr\n",
    "        print(f'error go down and new weight = {weight}')\n",
    "    if(e_up < e_down):\n",
    "        weight += lr\n",
    "        print(f'error go up and new weight = {weight}')\n"
   ]
  },
  {
   "cell_type": "code",
   "execution_count": null,
   "metadata": {},
   "outputs": [],
   "source": []
  }
 ],
 "metadata": {
  "kernelspec": {
   "display_name": "Python 3",
   "language": "python",
   "name": "python3"
  },
  "language_info": {
   "codemirror_mode": {
    "name": "ipython",
    "version": 3
   },
   "file_extension": ".py",
   "mimetype": "text/x-python",
   "name": "python",
   "nbconvert_exporter": "python",
   "pygments_lexer": "ipython3",
   "version": "3.7.4"
  }
 },
 "nbformat": 4,
 "nbformat_minor": 2
}
