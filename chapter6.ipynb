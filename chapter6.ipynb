{
 "cells": [
  {
   "cell_type": "code",
   "execution_count": 13,
   "metadata": {},
   "outputs": [
    {
     "name": "stdout",
     "output_type": "stream",
     "text": [
      "Error: 0.03999999538064003 Prediction: -0.19999998807907104\n",
      "Error: 0.02560000866651535 Prediction: -0.1600000262260437\n",
      "Error: 0.016384005546569824 Prediction: -0.12800002098083496\n",
      "Error: 0.010485772974789143 Prediction: -0.10240006446838379\n",
      "Error: 0.006710891146212816 Prediction: -0.08192002773284912\n",
      "Error: 0.0042949700728058815 Prediction: -0.0655360221862793\n",
      "Error: 0.0027487834449857473 Prediction: -0.05242884159088135\n",
      "Error: 0.0017592214280739427 Prediction: -0.04194307327270508\n",
      "Error: 0.001125900074839592 Prediction: -0.03355443477630615\n",
      "Error: 0.0007205760339275002 Prediction: -0.026843547821044922\n",
      "Error: 0.00046116867451928556 Prediction: -0.021474838256835938\n",
      "Error: 0.0002951471251435578 Prediction: -0.01717984676361084\n",
      "Error: 0.00018889416242018342 Prediction: -0.013743877410888672\n",
      "Error: 0.00012089331721654162 Prediction: -0.010995149612426758\n",
      "Error: 7.737130363238975e-05 Prediction: -0.008796095848083496\n",
      "Error: 4.9518304876983166e-05 Prediction: -0.007036924362182617\n",
      "Error: 3.169171395711601e-05 Prediction: -0.005629539489746094\n",
      "Error: 2.0282483092159964e-05 Prediction: -0.004503607749938965\n",
      "Error: 1.2980617611901835e-05 Prediction: -0.0036028623580932617\n",
      "Error: 8.307320058520418e-06 Prediction: -0.002882242202758789\n",
      "\n",
      "Error: 1.256983757019043 Prediction: -0.12115290760993958\n",
      "Error: 0.8044697046279907 Prediction: 0.10307767987251282\n",
      "Error: 0.5148606300354004 Prediction: 0.28246214985847473\n",
      "Error: 0.32951074838638306 Prediction: 0.4259697496891022\n",
      "Error: 0.2108868807554245 Prediction: 0.5407757759094238\n",
      "Error: 0.1349675953388214 Prediction: 0.632620632648468\n",
      "Error: 0.0863792821764946 Prediction: 0.7060964703559875\n",
      "Error: 0.05528273060917854 Prediction: 0.764877200126648\n",
      "Error: 0.035380952060222626 Prediction: 0.8119017481803894\n",
      "Error: 0.022643810138106346 Prediction: 0.8495213985443115\n",
      "Error: 0.014492029324173927 Prediction: 0.8796171545982361\n",
      "Error: 0.00927489623427391 Prediction: 0.9036937355995178\n",
      "Error: 0.005935926456004381 Prediction: 0.9229550361633301\n",
      "Error: 0.0037989928387105465 Prediction: 0.9383640289306641\n",
      "Error: 0.0024313554167747498 Prediction: 0.9506912231445312\n",
      "Error: 0.0015560712199658155 Prediction: 0.9605529308319092\n",
      "Error: 0.0009958833688870072 Prediction: 0.9684423804283142\n",
      "Error: 0.0006373677751980722 Prediction: 0.9747538566589355\n",
      "Error: 0.00040791535866446793 Prediction: 0.9798030853271484\n",
      "Error: 0.00026106697623617947 Prediction: 0.9838424324989319\n"
     ]
    },
    {
     "name": "stderr",
     "output_type": "stream",
     "text": [
      "/home/deep/miniconda3/lib/python3.7/site-packages/ipykernel_launcher.py:16: UserWarning: To copy construct from a tensor, it is recommended to use sourceTensor.clone().detach() or sourceTensor.clone().detach().requires_grad_(True), rather than torch.tensor(sourceTensor).\n",
      "  app.launch_new_instance()\n",
      "/home/deep/miniconda3/lib/python3.7/site-packages/ipykernel_launcher.py:27: UserWarning: To copy construct from a tensor, it is recommended to use sourceTensor.clone().detach() or sourceTensor.clone().detach().requires_grad_(True), rather than torch.tensor(sourceTensor).\n"
     ]
    }
   ],
   "source": [
    "#PAGE 108\n",
    "#BUILDING A NEURAL NETWORK\n",
    "import torch\n",
    "\n",
    "streetlights = torch.tensor([[1, 0, 1],\n",
    "                             [0, 1, 1],\n",
    "                             [0, 0, 1],\n",
    "                             [1, 1, 1],\n",
    "                             [0, 1, 1],\n",
    "                             [1, 0, 1]])\n",
    "walk_vs_stop = torch.tensor([0, 1, 0, 1, 1, 0])\n",
    "\n",
    "weights = torch.tensor([0.5, 0.48, -0.7])\n",
    "alpha = torch.tensor(0.1)\n",
    "\n",
    "#train f\n",
    "input = torch.tensor(streetlights[0], dtype=torch.float)\n",
    "goal_prediction = walk_vs_stop[0]\n",
    "for iteration in range(20):\n",
    "    pred = torch.dot(input, weights)\n",
    "    error = (pred - goal_prediction) ** 2\n",
    "    delta = pred - goal_prediction\n",
    "    gradients = delta * input\n",
    "    weights = weights - alpha * gradients\n",
    "    print(f'Error: {error} Prediction: {pred}')\n",
    "print()\n",
    "\n",
    "input = torch.tensor(streetlights[1], dtype=torch.float)\n",
    "goal_prediction = walk_vs_stop[1]\n",
    "for iteration in range(20):\n",
    "    pred = torch.dot(input, weights)\n",
    "    error = (pred - goal_prediction) ** 2\n",
    "    delta = pred - goal_prediction\n",
    "    gradients = delta * input\n",
    "    weights = weights - alpha * gradients\n",
    "    print(f'Error: {error} Prediction: {pred}')\n"
   ]
  },
  {
   "cell_type": "code",
   "execution_count": null,
   "metadata": {},
   "outputs": [],
   "source": []
  }
 ],
 "metadata": {
  "kernelspec": {
   "display_name": "Python 3",
   "language": "python",
   "name": "python3"
  },
  "language_info": {
   "codemirror_mode": {
    "name": "ipython",
    "version": 3
   },
   "file_extension": ".py",
   "mimetype": "text/x-python",
   "name": "python",
   "nbconvert_exporter": "python",
   "pygments_lexer": "ipython3",
   "version": "3.7.4"
  }
 },
 "nbformat": 4,
 "nbformat_minor": 2
}
