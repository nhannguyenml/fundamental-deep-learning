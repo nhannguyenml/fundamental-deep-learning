{
 "cells": [
  {
   "cell_type": "code",
   "execution_count": 1,
   "metadata": {},
   "outputs": [
    {
     "name": "stdout",
     "output_type": "stream",
     "text": [
      "0.8500000000000001\n"
     ]
    }
   ],
   "source": [
    "#PAGE 24\n",
    "#simple neural network\n",
    "weight = 0.1\n",
    "def neural_network(input, weight):\n",
    "    prediction= input * weight\n",
    "    return prediction\n",
    "\n",
    "number_of_toes = [8.5, 9.5, 10, 9]\n",
    "input = number_of_toes[0]\n",
    "pred = neural_network(input, weight)\n",
    "print(pred)"
   ]
  },
  {
   "cell_type": "code",
   "execution_count": 2,
   "metadata": {},
   "outputs": [
    {
     "name": "stdout",
     "output_type": "stream",
     "text": [
      "0.9800000000000001\n"
     ]
    }
   ],
   "source": [
    "#PAGE 28\n",
    "#neural network with multiple inputs\n",
    "weights = [0.1, 0.2, 0]\n",
    "\n",
    "def w_sum(a, b):\n",
    "    assert(len(a) == len(b))\n",
    "    output = 0\n",
    "    for i in range(len(a)):\n",
    "        output += (a[i]*b[i])\n",
    "    return output\n",
    "\n",
    "def neural_network(input, weight):\n",
    "    pred = w_sum(input, weights)\n",
    "    return pred\n",
    "\n",
    "toes = [8.5, 9.5, 9.9, 9.0]\n",
    "wlrec = [0.65, 0.8, 0.8, 0.9]\n",
    "nfans = [1.2, 1.3, 0.5, 1.0]\n",
    "\n",
    "input = [toes[0], wlrec[0], nfans[0]]\n",
    "pred = neural_network(input, weight)\n",
    "print(pred)"
   ]
  },
  {
   "cell_type": "code",
   "execution_count": 3,
   "metadata": {},
   "outputs": [
    {
     "name": "stdout",
     "output_type": "stream",
     "text": [
      "[0.195, 0.13, 0.5850000000000001]\n"
     ]
    }
   ],
   "source": [
    "#PAGE 36\n",
    "#neural network with multiple outputs\n",
    "weights = [0.3, 0.2, 0.9]\n",
    "\n",
    "def ele_mul(number, vector):\n",
    "    output = [0, 0, 0]\n",
    "    assert(len(output) == len(vector))\n",
    "    for i in range(len(vector)):\n",
    "        output[i] = number * vector[i]\n",
    "    return output\n",
    "\n",
    "def neural_network(input, weights):\n",
    "    pred = ele_mul(input, weights)\n",
    "    return pred\n",
    "\n",
    "wlrec = [0.65, 0.8, 0.9, 0.9]\n",
    "input = wlrec[0]\n",
    "pred = neural_network(input, weights)\n",
    "print(pred)"
   ]
  },
  {
   "cell_type": "code",
   "execution_count": 4,
   "metadata": {},
   "outputs": [
    {
     "name": "stdout",
     "output_type": "stream",
     "text": [
      "[0.555, 0.9800000000000001, 0.9650000000000001]\n"
     ]
    }
   ],
   "source": [
    "#PAGE 40\n",
    "#neural network with multiple inputs and outputs\n",
    "#think about 3 independent dot product\n",
    "#input one data point of the time\n",
    "#size input: 1x3\n",
    "#size weights(matrix): 3x3\n",
    "#size output: 1x3\n",
    "weights = [[0.1, 0.1, -0.3],\n",
    "            [0.1, 0.2, 0.0],\n",
    "            [0.0, 1.3, 0.1]]\n",
    "\n",
    "def w_sum(a, b):\n",
    "    assert(len(a) == len(b))\n",
    "    output = 0\n",
    "    for i in range(len(a)):\n",
    "        output += (a[i]*b[i])\n",
    "    return output\n",
    "\n",
    "def vect_mat_mul(vect, matrix):\n",
    "    assert(len(vect) == len(matrix))\n",
    "    output = [0, 0, 0]\n",
    "    for i in range(len(vect)):\n",
    "        output[i] = w_sum(vect, matrix[i])\n",
    "    return output\n",
    "\n",
    "def neural_network(input, weights):\n",
    "    pred = vect_mat_mul(input, weights)\n",
    "    return pred\n",
    "\n",
    "toes = [8.5, 9.5, 9.9, 9.0]\n",
    "wlrec = [0.65, 0.8, 0.8, 0.9]\n",
    "nfans = [1.2, 1.3, 0.5, 1.0]\n",
    "\n",
    "input = [toes[0], wlrec[0], nfans[0]]\n",
    "pred = neural_network(input, weights)\n",
    "print(pred)"
   ]
  },
  {
   "cell_type": "code",
   "execution_count": 13,
   "metadata": {},
   "outputs": [
    {
     "name": "stdout",
     "output_type": "stream",
     "text": [
      "[0.21350000000000002, 0.14500000000000002, 0.5065]\n",
      "[0.2135 0.145  0.5065]\n"
     ]
    }
   ],
   "source": [
    "#PAGE 40\n",
    "#Neural network with hidden layer\n",
    "def w_sum(a, b):\n",
    "    output = 0\n",
    "    for i in range(len(a)):\n",
    "        output += a[i]*b[i]\n",
    "    return output      \n",
    "\n",
    "def vect_mat_mul(vect, matrix):\n",
    "    output = [0, 0, 0]\n",
    "    for i in range(len(vect)):\n",
    "        output[i] = w_sum(vect, matrix[i])\n",
    "    return output\n",
    "        \n",
    "def neural_network(input, weights):\n",
    "    hid = vect_mat_mul(input, weights[0])\n",
    "    pred = vect_mat_mul(hid, weights[1])\n",
    "    return pred\n",
    "\n",
    "toes = [8.5, 9.5, 9.9, 9.0]\n",
    "wlrec = [0.65, 0.8, 0.8, 0.9]\n",
    "nfans = [1.2, 1.3, 0.5, 1.0]\n",
    "input = [toes[0], wlrec[0], nfans[0]]\n",
    "\n",
    "ih_wgt = [[0.1, 0.2, -0.1],\n",
    "          [-0.1, 0.1, 0.9],\n",
    "          [0.1, 0.4, 0.1]]\n",
    "hp_wgt = [[0.3, 1.1, -0.3],\n",
    "          [0.1, 0.2, 0.0],\n",
    "          [0.0, 1.3, 0.1]]\n",
    "weights =[ih_wgt, hp_wgt]\n",
    "\n",
    "pred = neural_network(input, weights)\n",
    "print(pred)\n",
    "\n",
    "\n",
    "\n",
    "#Same task but numpy version\n",
    "import numpy as np\n",
    "def neural_network(input, weights):\n",
    "    hid = input.dot(weights[0])\n",
    "    pred = hid.dot(weights[1])\n",
    "    return pred\n",
    "\n",
    "toes = np.array([8.5, 9.5, 9.9, 9.0])\n",
    "wlrec = np.array([0.65, 0.8, 0.8, 0.9])\n",
    "nfans = np.array([1.2, 1.3, 0.5, 1.0])\n",
    "input = np.array([toes[0], wlrec[0], nfans[0]])\n",
    "                 \n",
    "ih_wgt = np.array([\n",
    "            [0.1, 0.2, -0.1],\n",
    "            [-0.1, 0.1, 0.9],\n",
    "            [0.1, 0.4, 0.1]]).T\n",
    "hp_wgt = np.array([\n",
    "            [0.3, 1.1, -0.3],\n",
    "            [0.1, 0.2, 0.0],\n",
    "            [0.0, 1.3, 0.1]]).T\n",
    "weights =[ih_wgt, hp_wgt]\n",
    "                 \n",
    "pred = neural_network(input, weights)\n",
    "print(pred)\n",
    "    "
   ]
  },
  {
   "cell_type": "code",
   "execution_count": null,
   "metadata": {},
   "outputs": [],
   "source": []
  }
 ],
 "metadata": {
  "kernelspec": {
   "display_name": "Python 3",
   "language": "python",
   "name": "python3"
  },
  "language_info": {
   "codemirror_mode": {
    "name": "ipython",
    "version": 3
   },
   "file_extension": ".py",
   "mimetype": "text/x-python",
   "name": "python",
   "nbconvert_exporter": "python",
   "pygments_lexer": "ipython3",
   "version": "3.7.4"
  }
 },
 "nbformat": 4,
 "nbformat_minor": 2
}
