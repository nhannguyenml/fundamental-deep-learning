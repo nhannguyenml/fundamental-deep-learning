{
 "cells": [
  {
   "cell_type": "code",
   "execution_count": 23,
   "metadata": {},
   "outputs": [
    {
     "name": "stdout",
     "output_type": "stream",
     "text": [
      "--------------------\n",
      "Weights : tensor([ 0.1119,  0.2009, -0.0983])\n",
      "Error: 0.019599996507167816\n",
      "Gradient: tensor([-1.1900, -0.0910, -0.1680])\n",
      " Prediction: 0.8600000143051147\n",
      "--------------------\n",
      "Weights : tensor([ 0.1150,  0.2011, -0.0979])\n",
      "Error: 0.0013135219924151897\n",
      "Gradient: tensor([-0.3081, -0.0236, -0.0435])\n",
      " Prediction: 0.9637574553489685\n",
      "--------------------\n",
      "Weights : tensor([ 0.1158,  0.2012, -0.0978])\n",
      "Error: 8.802769298199564e-05\n",
      "Gradient: tensor([-0.0797, -0.0061, -0.0113])\n",
      " Prediction: 0.9906176924705505\n",
      "--------------------\n",
      "Weights : tensor([ 0.1160,  0.2012, -0.0977])\n",
      "Error: 5.898923973290948e-06\n",
      "Gradient: tensor([-0.0206, -0.0016, -0.0029])\n",
      " Prediction: 0.9975712299346924\n",
      "--------------------\n",
      "Weights : tensor([ 0.1160,  0.2012, -0.0977])\n",
      "Error: 3.9542590002383804e-07\n",
      "Gradient: tensor([-0.0053, -0.0004, -0.0008])\n",
      " Prediction: 0.9993711709976196\n",
      "--------------------\n",
      "Weights : tensor([ 0.1161,  0.2012, -0.0977])\n",
      "Error: 2.6478019776732253e-08\n",
      "Gradient: tensor([-0.0014, -0.0001, -0.0002])\n",
      " Prediction: 0.9998372793197632\n",
      "--------------------\n",
      "Weights : tensor([ 0.1161,  0.2012, -0.0977])\n",
      "Error: 1.7708003952066065e-09\n",
      "Gradient: tensor([-3.5769e-04, -2.7353e-05, -5.0497e-05])\n",
      " Prediction: 0.9999579191207886\n",
      "--------------------\n",
      "Weights : tensor([ 0.1161,  0.2012, -0.0977])\n",
      "Error: 1.2028067430946976e-10\n",
      "Gradient: tensor([-9.3222e-05, -7.1287e-06, -1.3161e-05])\n",
      " Prediction: 0.9999890327453613\n",
      "--------------------\n",
      "Weights : tensor([ 0.1161,  0.2012, -0.0977])\n",
      "Error: 8.185452315956354e-12\n",
      "Gradient: tensor([-2.4319e-05, -1.8597e-06, -3.4332e-06])\n",
      " Prediction: 0.9999971389770508\n",
      "--------------------\n",
      "Weights : tensor([ 0.1161,  0.2012, -0.0977])\n",
      "Error: 6.004086117172847e-13\n",
      "Gradient: tensor([-6.5863e-06, -5.0366e-07, -9.2983e-07])\n",
      " Prediction: 0.9999992251396179\n"
     ]
    },
    {
     "name": "stderr",
     "output_type": "stream",
     "text": [
      "/home/deep/miniconda3/lib/python3.7/site-packages/ipykernel_launcher.py:11: UserWarning: To copy construct from a tensor, it is recommended to use sourceTensor.clone().detach() or sourceTensor.clone().detach().requires_grad_(True), rather than torch.tensor(sourceTensor).\n",
      "  # This is added back by InteractiveShellApp.init_path()\n"
     ]
    }
   ],
   "source": [
    "#PAGE 80-81\n",
    "#GRADIENT DESCENT LEARNING WITH MULTIPLE INPUTS\n",
    "import torch\n",
    "\n",
    "toes = torch.tensor([8.5, 9.5, 9.9, 9.0])\n",
    "wlrec = torch.tensor([0.65, 0.8, 0.8, 0.9])\n",
    "nfans = torch.tensor([1.2, 1.3, 0.5, 1.0])\n",
    "input = torch.tensor([toes[0], wlrec[0], nfans[0]])\n",
    "\n",
    "win_or_lose_binary = torch.tensor([1, 1, 0, 1])\n",
    "true = torch.tensor(win_or_lose_binary[0])\n",
    "\n",
    "weights = torch.tensor([0.1, 0.2, -0.1])\n",
    "\n",
    "alpha = torch.tensor(0.01)\n",
    "\n",
    "for iteration in range(10):\n",
    "    pred = torch.dot(input, weights)\n",
    "    error = (pred - true) ** 2\n",
    "    delta = pred - true\n",
    "    weight_deltas = delta * input\n",
    "    weights = weights - alpha * weight_deltas\n",
    "    print('--------------------')\n",
    "    print(f'Weights : {weights}')\n",
    "    print(f'Error: {error}')\n",
    "    print(f'Gradient: {weight_deltas}')\n",
    "    print(f' Prediction: {pred}')"
   ]
  },
  {
   "cell_type": "code",
   "execution_count": null,
   "metadata": {},
   "outputs": [],
   "source": []
  }
 ],
 "metadata": {
  "kernelspec": {
   "display_name": "Python 3",
   "language": "python",
   "name": "python3"
  },
  "language_info": {
   "codemirror_mode": {
    "name": "ipython",
    "version": 3
   },
   "file_extension": ".py",
   "mimetype": "text/x-python",
   "name": "python",
   "nbconvert_exporter": "python",
   "pygments_lexer": "ipython3",
   "version": "3.7.4"
  }
 },
 "nbformat": 4,
 "nbformat_minor": 2
}
